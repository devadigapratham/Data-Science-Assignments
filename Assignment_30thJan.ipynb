{
 "cells": [
  {
   "cell_type": "markdown",
   "id": "926250b4-4d50-4c1f-a0c2-cc56f0c0c237",
   "metadata": {},
   "source": [
    "# Question 1 :"
   ]
  },
  {
   "cell_type": "code",
   "execution_count": 1,
   "id": "692681cc-1f99-4dbe-90ed-e26f2a225b79",
   "metadata": {},
   "outputs": [
    {
     "name": "stdin",
     "output_type": "stream",
     "text": [
      "Enter marks: 95\n"
     ]
    },
    {
     "name": "stdout",
     "output_type": "stream",
     "text": [
      "A grade\n"
     ]
    }
   ],
   "source": [
    "marks = float(input(\"Enter marks:\"))\n",
    "if marks>90:\n",
    "    print(\"A grade\")\n",
    "elif marks > 80 and marks <= 90:\n",
    "    print(\"B grade\")\n",
    "elif marks >=60 and marks <= 80:\n",
    "    print(\"C Grade\")\n",
    "else:\n",
    "    print(\"D Grade\")"
   ]
  },
  {
   "cell_type": "markdown",
   "id": "999eb769-8f12-490b-8e75-22362c472bb1",
   "metadata": {},
   "source": [
    "# Question 2 :"
   ]
  },
  {
   "cell_type": "code",
   "execution_count": 2,
   "id": "6825227b-2efb-4d83-b310-83b5349e6c49",
   "metadata": {},
   "outputs": [
    {
     "name": "stdin",
     "output_type": "stream",
     "text": [
      "Enter the cost of the bike:  50000\n"
     ]
    },
    {
     "name": "stdout",
     "output_type": "stream",
     "text": [
      "Road tax to be paid: 2500.0\n"
     ]
    }
   ],
   "source": [
    "cost_of_the_bike = float(input(\"Enter the cost of the bike: \"))\n",
    "if cost_of_the_bike > 100000:\n",
    "    print(f\"Road tax to be paid: {cost_of_the_bike*0.15}\")\n",
    "elif cost_of_the_bike > 50000 and cost_of_the_bike <= 100000:\n",
    "        print(f\"Road tax to be paid: {cost_of_the_bike*0.10}\")\n",
    "else:\n",
    "    print(f\"Road tax to be paid: {cost_of_the_bike*0.05}\")\n"
   ]
  },
  {
   "cell_type": "markdown",
   "id": "844c37f9-26a6-42fc-91fc-325d774d0aed",
   "metadata": {},
   "source": [
    "# Question 3 : "
   ]
  },
  {
   "cell_type": "code",
   "execution_count": 3,
   "id": "61f6cec4-0e5e-41e1-bb0c-bdf90c0f510c",
   "metadata": {},
   "outputs": [
    {
     "name": "stdout",
     "output_type": "stream",
     "text": [
      "Places: Delhi, Agra, Jaipur\n",
      "Choose any:\n"
     ]
    },
    {
     "name": "stdin",
     "output_type": "stream",
     "text": [
      " Delhi\n"
     ]
    },
    {
     "name": "stdout",
     "output_type": "stream",
     "text": [
      "Red Fort\n"
     ]
    }
   ],
   "source": [
    "print(\"Places: Delhi, Agra, Jaipur\\nChoose any:\")\n",
    "place = input()\n",
    "if place.lower() == \"delhi\":\n",
    "    print(\"Red Fort\")\n",
    "elif place.lower() == \"agra\":\n",
    "    print(\"Taj Mahal\")\n",
    "elif place.lower() == \"jaipur\":\n",
    "    print(\"Jal Mahal\")\n",
    "else:\n",
    "    print(\"Invalid input\")"
   ]
  },
  {
   "cell_type": "markdown",
   "id": "f5040758-5c3c-47fc-b622-f6639da3a9cc",
   "metadata": {},
   "source": [
    "# Question 4 :"
   ]
  },
  {
   "cell_type": "code",
   "execution_count": 4,
   "id": "b9c6e015-734b-4131-8c38-4c7f02a29a27",
   "metadata": {},
   "outputs": [
    {
     "name": "stdin",
     "output_type": "stream",
     "text": [
      "Enter num: 57\n"
     ]
    },
    {
     "name": "stdout",
     "output_type": "stream",
     "text": [
      "2\n"
     ]
    }
   ],
   "source": [
    "def count_divisible_by_3(n):\n",
    "    count = 0\n",
    "    while n > 10:\n",
    "        n = n / 3\n",
    "        count += 1\n",
    "    return count\n",
    "n = int(input(\"Enter num:\"))\n",
    "tot = count_divisible_by_3(n)\n",
    "print(tot)"
   ]
  },
  {
   "cell_type": "code",
   "execution_count": 5,
   "id": "74c8bb4a-d62a-4eae-ad13-82b8da2b61a8",
   "metadata": {},
   "outputs": [
    {
     "name": "stdout",
     "output_type": "stream",
     "text": [
      "5\n"
     ]
    }
   ],
   "source": [
    "# A while loop in Python is used when you want to repeat a block of code as long as a certain condition is met. The basic structure of a while loop is as follows:\n",
    "# while condition:\n",
    "#     # code to be executed\n",
    "# The loop continues to execute as long as condition is True. The condition is checked before each iteration of the loop. If condition becomes False, the loop terminates and the program continues with the next line of code after the loop.\n",
    "\n",
    "# Here's an example that uses a while loop to count the number of integers in a list that are divisible by 2:\n",
    "\n",
    "\n",
    "def count_evens(lst):\n",
    "    i = 0\n",
    "    count = 0\n",
    "    while i < len(lst):\n",
    "        if lst[i] % 2 == 0:\n",
    "            count += 1\n",
    "        i += 1\n",
    "    return count\n",
    "\n",
    "# test the function with a sample list\n",
    "print(count_evens([1, 2, 3, 4, 5, 6, 7, 8, 9, 10]))"
   ]
  },
  {
   "cell_type": "code",
   "execution_count": 6,
   "id": "85aaf693-e212-4f6d-991f-1b94238bc8a7",
   "metadata": {},
   "outputs": [
    {
     "name": "stdout",
     "output_type": "stream",
     "text": [
      "* \n",
      "* * \n",
      "* * * \n",
      "* * * * \n",
      "* * * * * \n",
      "* * * * * \n",
      "* * * * \n",
      "* * * \n",
      "* * \n",
      "* \n",
      "    *\n",
      "   ***\n",
      "  *****\n",
      " *******\n",
      "*********\n",
      " *******\n",
      "  *****\n",
      "   ***\n",
      "    *\n"
     ]
    }
   ],
   "source": [
    "\n",
    "## Pattern 1 \n",
    "def pyramid_pattern(n):\n",
    "    row = 0\n",
    "    while row < n:\n",
    "        col = 0\n",
    "        while col <= row:\n",
    "            print(\"*\", end=\" \")\n",
    "            col += 1\n",
    "        print(\"\")\n",
    "        row += 1\n",
    "\n",
    "# test the function with a sample value of n\n",
    "pyramid_pattern(5)\n",
    "\n",
    "\n",
    "\n",
    "## Pattern 2 \n",
    "def inverse_pyramid_pattern(n):\n",
    "    row = n\n",
    "    while row > 0:\n",
    "        col = 0\n",
    "        while col < row:\n",
    "            print(\"*\", end=\" \")\n",
    "            col += 1\n",
    "        print(\"\")\n",
    "        row -= 1\n",
    "\n",
    "# test the function with a sample value of n\n",
    "inverse_pyramid_pattern(5)\n",
    "\n",
    "## Pattern 3 \n",
    "def diamond_pattern(n):\n",
    "    row = 0\n",
    "    while row < n:\n",
    "        col = 0\n",
    "        while col < n - row - 1:\n",
    "            print(\" \", end=\"\")\n",
    "            col += 1\n",
    "        col = 0\n",
    "        while col <= 2 * row:\n",
    "            print(\"*\", end=\"\")\n",
    "            col += 1\n",
    "        print(\"\")\n",
    "        row += 1\n",
    "\n",
    "    row = n - 2\n",
    "    while row >= 0:\n",
    "        col = 0\n",
    "        while col < n - row - 1:\n",
    "            print(\" \", end=\"\")\n",
    "            col += 1\n",
    "        col = 0\n",
    "        while col <= 2 * row:\n",
    "            print(\"*\", end=\"\")\n",
    "            col += 1\n",
    "        print(\"\")\n",
    "        row -= 1\n",
    "\n",
    "# test the function with a sample value of n\n",
    "diamond_pattern(5)\n",
    "\n"
   ]
  },
  {
   "cell_type": "code",
   "execution_count": 7,
   "id": "255a1961-173e-4093-9200-90c9e966a3f1",
   "metadata": {},
   "outputs": [
    {
     "name": "stdout",
     "output_type": "stream",
     "text": [
      "10\n",
      "9\n",
      "8\n",
      "7\n",
      "6\n",
      "5\n",
      "4\n",
      "3\n",
      "2\n",
      "1\n"
     ]
    }
   ],
   "source": [
    "\n",
    "##Question 7\n",
    "\n",
    "\n",
    "def reverse_countdown():\n",
    "    n = 10\n",
    "    while n >= 1:\n",
    "        print(n)\n",
    "        n -= 1\n",
    "\n",
    "# test the function\n",
    "reverse_countdown()\n"
   ]
  },
  {
   "cell_type": "code",
   "execution_count": null,
   "id": "9a2e2d1e-5458-45ee-a3c6-701d3991504d",
   "metadata": {},
   "outputs": [],
   "source": []
  }
 ],
 "metadata": {
  "kernelspec": {
   "display_name": "Python 3 (ipykernel)",
   "language": "python",
   "name": "python3"
  },
  "language_info": {
   "codemirror_mode": {
    "name": "ipython",
    "version": 3
   },
   "file_extension": ".py",
   "mimetype": "text/x-python",
   "name": "python",
   "nbconvert_exporter": "python",
   "pygments_lexer": "ipython3",
   "version": "3.10.8"
  }
 },
 "nbformat": 4,
 "nbformat_minor": 5
}
