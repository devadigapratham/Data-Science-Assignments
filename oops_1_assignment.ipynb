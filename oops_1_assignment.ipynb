{
 "cells": [
  {
   "cell_type": "markdown",
   "id": "2b821c79-9e7a-4c89-8a2e-f5d3dbc03faa",
   "metadata": {},
   "source": [
    "## Assignment OOPS 1:\n"
   ]
  },
  {
   "cell_type": "markdown",
   "id": "66bea340-55d2-4026-b3dc-bcac36e89796",
   "metadata": {},
   "source": [
    "# Question 1 : \n",
    "\n",
    "## In Object-Oriented Programming, a class is a blueprint or template for creating objects (instances of a class). It defines the data and behavior (methods) of a type of object.\n",
    "\n",
    "## An object, on the other hand, is a specific instance of a class that has its own property values (data) and behavior (methods).\n",
    "class Person:\n",
    "    def __init__(self, name, age, address):\n",
    "        self.name = name\n",
    "        self.age = age\n",
    "        self.address = address\n",
    "        \n",
    "    def speak(self):\n",
    "        print(f\"Hi, I am {self.name}\")\n",
    "        \n",
    "    def walk(self):\n",
    "        print(f\"{self.name} is walking\")\n",
    "        \n",
    "# Creating an object of the Person class\n",
    "person = Person(\"John Doe\", 30, \"123 Main St.\")\n",
    "\n",
    "# Accessing object's properties\n",
    "print(person.name)\n",
    "print(person.age)\n",
    "print(person.address)\n",
    "\n",
    "# Calling object's methods\n",
    "person.speak()\n",
    "person.walk()\n",
    "\n",
    "\n"
   ]
  },
  {
   "cell_type": "markdown",
   "id": "90641d78-db9c-47b7-9031-a8946aa33e98",
   "metadata": {},
   "source": [
    "# Question 2 :\n",
    "\n",
    "#### Abstraction: Hiding the internal complexity and only showing the essential features to the user.\n",
    "\n",
    "#### Encapsulation: Wrapping data (attributes) and behavior (methods) into a single unit or object.\n",
    "\n",
    "#### Inheritance: The ability of an object to derive properties and behavior from a parent object.\n",
    "\n",
    "#### Polymorphism: The ability of an object to take multiple forms. In OOP, polymorphism refers to the ability of a single method or operator to perform multiple tasks based on the type of object it is working on."
   ]
  },
  {
   "cell_type": "markdown",
   "id": "f5bbd81b-ea65-46c7-a69f-59a67b2a6960",
   "metadata": {},
   "source": [
    "# Question 3 : \n",
    "\n",
    "\n",
    "#### The __init__ method, also known as a constructor, is a special method in Python classes. It is automatically called when an object of the class is created. The __init__ method allows you to set the initial state of the object, i.e., to initialize the object's attributes with specific values when it is created.\n",
    "\n",
    "class Dog:\n",
    "    def __init__(self, breed, name, age):\n",
    "        self.breed = breed\n",
    "        self.name = name\n",
    "        self.age = age\n",
    "        \n",
    "dog1 = Dog(\"Labrador\", \"Buddy\", 3)\n",
    "dog2 = Dog(\"Golden Retriever\", \"Max\", 5)\n",
    "\n",
    "print(dog1.breed, dog1.name, dog1.age)\n",
    "print(dog2.breed, dog2.name, dog2.age)\n",
    "\n"
   ]
  },
  {
   "cell_type": "markdown",
   "id": "9921476d-3aa5-4610-b10b-ee4d06d38fef",
   "metadata": {},
   "source": [
    "# Question 4 :\n",
    "\n",
    "#### In Object-Oriented Programming, self is a reference to the instance of the class that is calling the method. It is used to access the attributes and methods of the current object within a class. When a method is called on an object, the object is passed as the first argument to the method. By convention, this argument is named self, but you can use any name you like. The self argument is used to refer to the attributes and methods of the current object."
   ]
  },
  {
   "cell_type": "markdown",
   "id": "bd888908-5883-4a68-a478-513ba8806cd0",
   "metadata": {},
   "source": [
    "# Question 5 :\n",
    "\n",
    "\n",
    "### Inheritance is a mechanism in Object-Oriented Programming (OOP) that allows a new class to be derived from an existing class, inheriting its attributes and methods. The new class is called the child class or derived class, and the existing class is the parent class or base class.\n",
    "\n",
    "#### 1. Single inheritance: The child class inherits attributes and methods from a single parent class.\n",
    "#### 2. "
   ]
  }
 ],
 "metadata": {
  "kernelspec": {
   "display_name": "Python 3 (ipykernel)",
   "language": "python",
   "name": "python3"
  },
  "language_info": {
   "codemirror_mode": {
    "name": "ipython",
    "version": 3
   },
   "file_extension": ".py",
   "mimetype": "text/x-python",
   "name": "python",
   "nbconvert_exporter": "python",
   "pygments_lexer": "ipython3",
   "version": "3.10.8"
  }
 },
 "nbformat": 4,
 "nbformat_minor": 5
}
