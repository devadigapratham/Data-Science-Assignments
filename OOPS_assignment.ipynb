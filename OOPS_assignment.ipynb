{
 "cells": [
  {
   "cell_type": "markdown",
   "id": "679a1db0-b0eb-4af6-b983-629e7ca0c4a7",
   "metadata": {},
   "source": [
    "### Q1, Create a vehicle class with an init method having instance variables as name_of_vehicle, max_speed and average_of_vehicle."
   ]
  },
  {
   "cell_type": "code",
   "execution_count": 2,
   "id": "a7c00028-b1c2-4d0a-8837-fe23b05bc0ba",
   "metadata": {},
   "outputs": [],
   "source": [
    "class Vehicle:\n",
    "    def __init__(self, name_of_vehicle, max_speed, average_of_vehicle):\n",
    "        self.name_of_vehicle = name_of_vehicle\n",
    "        self.max_speed = max_speed\n",
    "        self.average_of_vehicle = average_of_vehicle\n"
   ]
  },
  {
   "cell_type": "markdown",
   "id": "3698f368-a2cb-40eb-b62c-bfc1382cd7fc",
   "metadata": {},
   "source": [
    "### Q2. Create a child class car from the vehicle class created in Que 1, which will inherit the vehicle class. Create a method named seating_capacity which takes capacity as an argument and returns the name of the vehicle and its seating capacity."
   ]
  },
  {
   "cell_type": "code",
   "execution_count": 3,
   "id": "9da9a53f-4e4f-4120-be63-1d80e63c5735",
   "metadata": {},
   "outputs": [],
   "source": [
    "class Car(Vehicle):\n",
    "    def seating_capacity(self, capacity):\n",
    "        return f\"{self.name_of_vehicle} has a seating capacity of {capacity}.\"\n"
   ]
  },
  {
   "cell_type": "markdown",
   "id": "5349bb36-071c-4ea5-bb7a-2c7379f2b0fd",
   "metadata": {},
   "source": [
    "### Q3. What is multiple inheritance? Write a python code to demonstrate multiple inheritance."
   ]
  },
  {
   "cell_type": "code",
   "execution_count": 6,
   "id": "91b7707b-2fc2-4c24-b4ec-5ab0c6691e85",
   "metadata": {},
   "outputs": [
    {
     "name": "stdout",
     "output_type": "stream",
     "text": [
      "Hello, I'm Prathamesh.\n",
      "Student ID 12345 is enrolled.\n",
      "Prathamesh has a scholarship.\n"
     ]
    }
   ],
   "source": [
    "#Multiple inheritance is a feature in object-oriented programming languages where a class can inherit properties and characteristics from more than one parent class.\n",
    "class Person:\n",
    "    def __init__(self, name):\n",
    "        self.name = name\n",
    "    \n",
    "    def greeting(self):\n",
    "        return f\"Hello, I'm {self.name}.\"\n",
    "\n",
    "class Student:\n",
    "    def __init__(self, student_id):\n",
    "        self.student_id = student_id\n",
    "    \n",
    "    def enrollment_status(self):\n",
    "        return f\"Student ID {self.student_id} is enrolled.\"\n",
    "\n",
    "class Scholar(Person, Student):\n",
    "    def __init__(self, name, student_id):\n",
    "        Person.__init__(self, name)\n",
    "        Student.__init__(self, student_id)\n",
    "    \n",
    "    def scholarship_status(self):\n",
    "        return f\"{self.name} has a scholarship.\"\n",
    "\n",
    "scholar = Scholar(\"Prathamesh\", 12345)\n",
    "print(scholar.greeting())\n",
    "print(scholar.enrollment_status())\n",
    "print(scholar.scholarship_status())\n"
   ]
  },
  {
   "cell_type": "markdown",
   "id": "db24eef1-fa20-4a99-a988-d1e138ef2308",
   "metadata": {},
   "source": [
    "### Q4. What are getter and setter in python? Create a class and create a getter and a setter method in this class."
   ]
  },
  {
   "cell_type": "code",
   "execution_count": 10,
   "id": "4d06b4ef-73bd-4308-8744-2829c22dc5ae",
   "metadata": {},
   "outputs": [
    {
     "name": "stdout",
     "output_type": "stream",
     "text": [
      "Title: War and Peace\n",
      "Author: Leo Tolstoy\n",
      "\n",
      "Title: Anna Karenina\n",
      "Author: Leo Tolstoy\n"
     ]
    }
   ],
   "source": [
    "'''Getters and setters are methods in Python classes that are used to control access to instance variables. A getter method is used to retrieve the value of an instance variable, while a setter method is used to set or modify the value of an instance variable.\n",
    "'''\n",
    "class Book:\n",
    "    def __init__(self, title, author):\n",
    "        self.__title = title\n",
    "        self.__author = author\n",
    "    \n",
    "    @property\n",
    "    def title(self):\n",
    "        return self.__title\n",
    "    \n",
    "    @title.setter\n",
    "    def title(self, title):\n",
    "        self.__title = title\n",
    "    \n",
    "    @property\n",
    "    def author(self):\n",
    "        return self.__author\n",
    "    \n",
    "    @author.setter\n",
    "    def author(self, author):\n",
    "        self.__author = author\n",
    "\n",
    "book = Book(\"War and Peace\", \"Leo Tolstoy\")\n",
    "print(\"Title:\", book.title)\n",
    "print(\"Author:\", book.author)\n",
    "\n",
    "book.title = \"Anna Karenina\"\n",
    "book.author = \"Leo Tolstoy\"\n",
    "print(\"\\nTitle:\", book.title)\n",
    "print(\"Author:\", book.author)\n"
   ]
  },
  {
   "cell_type": "markdown",
   "id": "c0aa947b-f3cb-4806-8871-456f526202a7",
   "metadata": {},
   "source": [
    "### Q5.What is method overriding in python? Write a python code to demonstrate method overriding."
   ]
  },
  {
   "cell_type": "code",
   "execution_count": null,
   "id": "ad771e9f-8c27-40f6-99f1-dad8c1e8ef90",
   "metadata": {},
   "outputs": [],
   "source": [
    "'''Method overriding is a feature in Object-Oriented Programming (OOP) that allows a subclass to provide a different implementation of a method that is already defined in its superclass'''\n",
    "class Animal:\n",
    "    def make_sound(self):\n",
    "        print(\"Animal makes a sound\")\n",
    "\n",
    "class Dog(Animal):\n",
    "    def make_sound(self):\n",
    "        print(\"Bark!\")\n",
    "\n",
    "dog = Dog()\n",
    "dog.make_sound() # Output: Bark!\n"
   ]
  }
 ],
 "metadata": {
  "kernelspec": {
   "display_name": "Python 3 (ipykernel)",
   "language": "python",
   "name": "python3"
  },
  "language_info": {
   "codemirror_mode": {
    "name": "ipython",
    "version": 3
   },
   "file_extension": ".py",
   "mimetype": "text/x-python",
   "name": "python",
   "nbconvert_exporter": "python",
   "pygments_lexer": "ipython3",
   "version": "3.10.8"
  }
 },
 "nbformat": 4,
 "nbformat_minor": 5
}
